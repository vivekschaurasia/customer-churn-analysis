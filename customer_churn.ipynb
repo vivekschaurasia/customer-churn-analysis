{
  "nbformat": 4,
  "nbformat_minor": 0,
  "metadata": {
    "colab": {
      "provenance": []
    },
    "kernelspec": {
      "name": "python3",
      "display_name": "Python 3"
    },
    "language_info": {
      "name": "python"
    }
  },
  "cells": [
    {
      "cell_type": "code",
      "source": [
        "import pandas as pd\n",
        "# Load the dataset\n",
        "file_path = 'WA_Fn-UseC_-Telco-Customer-Churn.csv'\n",
        "df = pd.read_csv(file_path)\n",
        "\n",
        "# Display the first few rows of the dataset\n",
        "print(df.head())"
      ],
      "metadata": {
        "colab": {
          "base_uri": "https://localhost:8080/"
        },
        "id": "8iuQUIP-7BNc",
        "outputId": "e42ead9f-c38c-4a6c-e78b-2cd8d4bb22e3"
      },
      "execution_count": 1,
      "outputs": [
        {
          "output_type": "stream",
          "name": "stdout",
          "text": [
            "   customerID  gender  SeniorCitizen Partner Dependents  tenure PhoneService  \\\n",
            "0  7590-VHVEG  Female              0     Yes         No       1           No   \n",
            "1  5575-GNVDE    Male              0      No         No      34          Yes   \n",
            "2  3668-QPYBK    Male              0      No         No       2          Yes   \n",
            "3  7795-CFOCW    Male              0      No         No      45           No   \n",
            "4  9237-HQITU  Female              0      No         No       2          Yes   \n",
            "\n",
            "      MultipleLines InternetService OnlineSecurity  ... DeviceProtection  \\\n",
            "0  No phone service             DSL             No  ...               No   \n",
            "1                No             DSL            Yes  ...              Yes   \n",
            "2                No             DSL            Yes  ...               No   \n",
            "3  No phone service             DSL            Yes  ...              Yes   \n",
            "4                No     Fiber optic             No  ...               No   \n",
            "\n",
            "  TechSupport StreamingTV StreamingMovies        Contract PaperlessBilling  \\\n",
            "0          No          No              No  Month-to-month              Yes   \n",
            "1          No          No              No        One year               No   \n",
            "2          No          No              No  Month-to-month              Yes   \n",
            "3         Yes          No              No        One year               No   \n",
            "4          No          No              No  Month-to-month              Yes   \n",
            "\n",
            "               PaymentMethod MonthlyCharges  TotalCharges Churn  \n",
            "0           Electronic check          29.85         29.85    No  \n",
            "1               Mailed check          56.95        1889.5    No  \n",
            "2               Mailed check          53.85        108.15   Yes  \n",
            "3  Bank transfer (automatic)          42.30       1840.75    No  \n",
            "4           Electronic check          70.70        151.65   Yes  \n",
            "\n",
            "[5 rows x 21 columns]\n"
          ]
        }
      ]
    },
    {
      "cell_type": "code",
      "execution_count": 2,
      "metadata": {
        "colab": {
          "base_uri": "https://localhost:8080/"
        },
        "id": "H5fmpnBN3MSZ",
        "outputId": "63f54b3b-f20f-4613-95f1-2526fc0122ef"
      },
      "outputs": [
        {
          "output_type": "stream",
          "name": "stdout",
          "text": [
            "Tables in database:           name\n",
            "0  telco_churn\n"
          ]
        }
      ],
      "source": [
        "import sqlite3\n",
        "\n",
        "# Create a connection to SQLite database\n",
        "conn = sqlite3.connect(':memory:')  # Use ':memory:' for a temporary database\n",
        "\n",
        "# Load the DataFrame into the SQLite database\n",
        "df.to_sql('telco_churn', conn, index=False, if_exists='replace')\n",
        "\n",
        "# Verify the table is created\n",
        "query = \"SELECT name FROM sqlite_master WHERE type='table';\"\n",
        "tables = pd.read_sql(query, conn)\n",
        "print(\"Tables in database:\", tables)\n"
      ]
    },
    {
      "cell_type": "code",
      "source": [
        "# Example: Count the number of customers who churned\n",
        "query = \"\"\"\n",
        "SELECT COUNT(*) AS churned_customers\n",
        "FROM telco_churn\n",
        "WHERE Churn = 'Yes';\n",
        "\"\"\"\n",
        "result = pd.read_sql(query, conn)\n",
        "print(result)\n"
      ],
      "metadata": {
        "colab": {
          "base_uri": "https://localhost:8080/"
        },
        "id": "v-JnoaT87FZH",
        "outputId": "5d7eca30-92f1-4f5a-a1ff-33a9d5456ed2"
      },
      "execution_count": 3,
      "outputs": [
        {
          "output_type": "stream",
          "name": "stdout",
          "text": [
            "   churned_customers\n",
            "0               1869\n"
          ]
        }
      ]
    },
    {
      "cell_type": "code",
      "source": [
        "query = \"\"\"\n",
        "SELECT *, tenure * MonthlyCharges AS TotalRevenue\n",
        "FROM telco_churn;\n",
        "\"\"\"\n",
        "result = pd.read_sql(query, conn)\n",
        "print(result)"
      ],
      "metadata": {
        "colab": {
          "base_uri": "https://localhost:8080/"
        },
        "id": "OmpkwQXp7I9j",
        "outputId": "4ec0fc99-03b0-42ba-c709-2cc499bc7817"
      },
      "execution_count": 4,
      "outputs": [
        {
          "output_type": "stream",
          "name": "stdout",
          "text": [
            "      customerID  gender  SeniorCitizen Partner Dependents  tenure  \\\n",
            "0     7590-VHVEG  Female              0     Yes         No       1   \n",
            "1     5575-GNVDE    Male              0      No         No      34   \n",
            "2     3668-QPYBK    Male              0      No         No       2   \n",
            "3     7795-CFOCW    Male              0      No         No      45   \n",
            "4     9237-HQITU  Female              0      No         No       2   \n",
            "...          ...     ...            ...     ...        ...     ...   \n",
            "7038  6840-RESVB    Male              0     Yes        Yes      24   \n",
            "7039  2234-XADUH  Female              0     Yes        Yes      72   \n",
            "7040  4801-JZAZL  Female              0     Yes        Yes      11   \n",
            "7041  8361-LTMKD    Male              1     Yes         No       4   \n",
            "7042  3186-AJIEK    Male              0      No         No      66   \n",
            "\n",
            "     PhoneService     MultipleLines InternetService OnlineSecurity  ...  \\\n",
            "0              No  No phone service             DSL             No  ...   \n",
            "1             Yes                No             DSL            Yes  ...   \n",
            "2             Yes                No             DSL            Yes  ...   \n",
            "3              No  No phone service             DSL            Yes  ...   \n",
            "4             Yes                No     Fiber optic             No  ...   \n",
            "...           ...               ...             ...            ...  ...   \n",
            "7038          Yes               Yes             DSL            Yes  ...   \n",
            "7039          Yes               Yes     Fiber optic             No  ...   \n",
            "7040           No  No phone service             DSL            Yes  ...   \n",
            "7041          Yes               Yes     Fiber optic             No  ...   \n",
            "7042          Yes                No     Fiber optic            Yes  ...   \n",
            "\n",
            "     TechSupport StreamingTV StreamingMovies        Contract PaperlessBilling  \\\n",
            "0             No          No              No  Month-to-month              Yes   \n",
            "1             No          No              No        One year               No   \n",
            "2             No          No              No  Month-to-month              Yes   \n",
            "3            Yes          No              No        One year               No   \n",
            "4             No          No              No  Month-to-month              Yes   \n",
            "...          ...         ...             ...             ...              ...   \n",
            "7038         Yes         Yes             Yes        One year              Yes   \n",
            "7039          No         Yes             Yes        One year              Yes   \n",
            "7040          No          No              No  Month-to-month              Yes   \n",
            "7041          No          No              No  Month-to-month              Yes   \n",
            "7042         Yes         Yes             Yes        Two year              Yes   \n",
            "\n",
            "                  PaymentMethod MonthlyCharges TotalCharges  Churn  \\\n",
            "0              Electronic check          29.85        29.85     No   \n",
            "1                  Mailed check          56.95       1889.5     No   \n",
            "2                  Mailed check          53.85       108.15    Yes   \n",
            "3     Bank transfer (automatic)          42.30      1840.75     No   \n",
            "4              Electronic check          70.70       151.65    Yes   \n",
            "...                         ...            ...          ...    ...   \n",
            "7038               Mailed check          84.80       1990.5     No   \n",
            "7039    Credit card (automatic)         103.20       7362.9     No   \n",
            "7040           Electronic check          29.60       346.45     No   \n",
            "7041               Mailed check          74.40        306.6    Yes   \n",
            "7042  Bank transfer (automatic)         105.65       6844.5     No   \n",
            "\n",
            "     TotalRevenue  \n",
            "0           29.85  \n",
            "1         1936.30  \n",
            "2          107.70  \n",
            "3         1903.50  \n",
            "4          141.40  \n",
            "...           ...  \n",
            "7038      2035.20  \n",
            "7039      7430.40  \n",
            "7040       325.60  \n",
            "7041       297.60  \n",
            "7042      6972.90  \n",
            "\n",
            "[7043 rows x 22 columns]\n"
          ]
        }
      ]
    },
    {
      "cell_type": "code",
      "source": [],
      "metadata": {
        "id": "CCVEme3d7apc"
      },
      "execution_count": null,
      "outputs": []
    },
    {
      "cell_type": "markdown",
      "source": [
        "#Customer Segmentation"
      ],
      "metadata": {
        "id": "fbU-Xr747jb8"
      }
    },
    {
      "cell_type": "code",
      "source": [
        "query = \"\"\"\n",
        "SELECT customerID, tenure, MonthlyCharges\n",
        "FROM telco_churn\n",
        "WHERE tenure < 12 AND Churn = 'Yes';\n",
        "\n",
        "\"\"\"\n",
        "result = pd.read_sql(query, conn)\n",
        "print(result)"
      ],
      "metadata": {
        "colab": {
          "base_uri": "https://localhost:8080/"
        },
        "id": "SlMPaqNY7how",
        "outputId": "97fef9fa-f551-444d-e650-f0b4ea48bb69"
      },
      "execution_count": 5,
      "outputs": [
        {
          "output_type": "stream",
          "name": "stdout",
          "text": [
            "     customerID  tenure  MonthlyCharges\n",
            "0    3668-QPYBK       2           53.85\n",
            "1    9237-HQITU       2           70.70\n",
            "2    9305-CDSKC       8           99.65\n",
            "3    4190-MFLUW      10           55.20\n",
            "4    8779-QRDMV       1           39.65\n",
            "..          ...     ...             ...\n",
            "994  5482-NUPNA       4           60.40\n",
            "995  1122-JWTJW       1           70.65\n",
            "996  8775-CEBBJ       9           44.20\n",
            "997  6894-LFHLY       1           75.75\n",
            "998  8361-LTMKD       4           74.40\n",
            "\n",
            "[999 rows x 3 columns]\n"
          ]
        }
      ]
    },
    {
      "cell_type": "code",
      "source": [],
      "metadata": {
        "id": "RFbr_1Rw7m3m"
      },
      "execution_count": null,
      "outputs": []
    },
    {
      "cell_type": "markdown",
      "source": [
        "#EDA"
      ],
      "metadata": {
        "id": "h5ac09C97nnv"
      }
    },
    {
      "cell_type": "code",
      "source": [
        "query = \"\"\"\n",
        "SELECT Contract, AVG(MonthlyCharges) AS AvgMonthlyCharges\n",
        "FROM telco_churn\n",
        "GROUP BY Contract;\n",
        "\n",
        "\"\"\"\n",
        "result = pd.read_sql(query, conn)\n",
        "print(result)"
      ],
      "metadata": {
        "colab": {
          "base_uri": "https://localhost:8080/"
        },
        "id": "tGHk56vU7o74",
        "outputId": "b87b6946-e92f-4368-c35d-768f15b3c61e"
      },
      "execution_count": 7,
      "outputs": [
        {
          "output_type": "stream",
          "name": "stdout",
          "text": [
            "         Contract  AvgMonthlyCharges\n",
            "0  Month-to-month          66.398490\n",
            "1        One year          65.048608\n",
            "2        Two year          60.770413\n"
          ]
        }
      ]
    },
    {
      "cell_type": "code",
      "source": [],
      "metadata": {
        "id": "_6MISq-S7sMo"
      },
      "execution_count": null,
      "outputs": []
    },
    {
      "cell_type": "markdown",
      "source": [
        "#Count total records"
      ],
      "metadata": {
        "id": "HPnTmIFv8kZw"
      }
    },
    {
      "cell_type": "code",
      "source": [
        "query = \"SELECT COUNT(*) AS total_customers FROM telco_churn;\"\n",
        "total_customers = pd.read_sql(query, conn)\n",
        "print(total_customers)\n"
      ],
      "metadata": {
        "colab": {
          "base_uri": "https://localhost:8080/"
        },
        "id": "hOOTi_NJ8mRI",
        "outputId": "74b55900-8e52-4959-9240-dd6617cfa02d"
      },
      "execution_count": 8,
      "outputs": [
        {
          "output_type": "stream",
          "name": "stdout",
          "text": [
            "   total_customers\n",
            "0             7043\n"
          ]
        }
      ]
    },
    {
      "cell_type": "code",
      "source": [],
      "metadata": {
        "id": "p-Hn61IF8moq"
      },
      "execution_count": null,
      "outputs": []
    },
    {
      "cell_type": "markdown",
      "source": [
        "Count Churned Customers:"
      ],
      "metadata": {
        "id": "QRfT_VbJ8par"
      }
    },
    {
      "cell_type": "code",
      "source": [
        "query = \"SELECT COUNT(*) AS churned_customers FROM telco_churn WHERE Churn = 'Yes';\"\n",
        "churned_customers = pd.read_sql(query, conn)\n",
        "print(churned_customers)\n"
      ],
      "metadata": {
        "colab": {
          "base_uri": "https://localhost:8080/"
        },
        "id": "i7F3pd0y8p7z",
        "outputId": "6115ec13-b8c1-444f-b74d-9c6f2b09871d"
      },
      "execution_count": 9,
      "outputs": [
        {
          "output_type": "stream",
          "name": "stdout",
          "text": [
            "   churned_customers\n",
            "0               1869\n"
          ]
        }
      ]
    },
    {
      "cell_type": "markdown",
      "source": [
        "Average Monthly Charges by Contract Type:"
      ],
      "metadata": {
        "id": "ZUfGM0dy8tX_"
      }
    },
    {
      "cell_type": "code",
      "source": [
        "query = \"\"\"\n",
        "SELECT Contract, AVG(MonthlyCharges) AS AvgMonthlyCharges\n",
        "FROM telco_churn\n",
        "GROUP BY Contract;\n",
        "\"\"\"\n",
        "avg_charges = pd.read_sql(query, conn)\n",
        "print(avg_charges)\n"
      ],
      "metadata": {
        "colab": {
          "base_uri": "https://localhost:8080/"
        },
        "id": "T751Qh9F8rMl",
        "outputId": "d00e560c-a477-4b44-e057-47c1bd9e630b"
      },
      "execution_count": 10,
      "outputs": [
        {
          "output_type": "stream",
          "name": "stdout",
          "text": [
            "         Contract  AvgMonthlyCharges\n",
            "0  Month-to-month          66.398490\n",
            "1        One year          65.048608\n",
            "2        Two year          60.770413\n"
          ]
        }
      ]
    },
    {
      "cell_type": "code",
      "source": [],
      "metadata": {
        "id": "eDD5t3TZ8wwO"
      },
      "execution_count": null,
      "outputs": []
    },
    {
      "cell_type": "markdown",
      "source": [
        "#Feature Engineering\n"
      ],
      "metadata": {
        "id": "BmyESXaT-fh2"
      }
    },
    {
      "cell_type": "markdown",
      "source": [
        "Adding Total Revenue (Tenure * MonthlyCharges):"
      ],
      "metadata": {
        "id": "4H3MpYnI-twQ"
      }
    },
    {
      "cell_type": "code",
      "source": [
        "query = \"\"\"\n",
        "SELECT *, tenure * MonthlyCharges AS TotalRevenue\n",
        "FROM telco_churn;\n",
        "\"\"\"\n",
        "df_with_features = pd.read_sql(query, conn)\n",
        "print(df_with_features.head())\n"
      ],
      "metadata": {
        "colab": {
          "base_uri": "https://localhost:8080/"
        },
        "id": "7_BhI7wt-gSW",
        "outputId": "954cc7a0-b3d5-4a4b-cb76-891eed50b1e1"
      },
      "execution_count": 11,
      "outputs": [
        {
          "output_type": "stream",
          "name": "stdout",
          "text": [
            "   customerID  gender  SeniorCitizen Partner Dependents  tenure PhoneService  \\\n",
            "0  7590-VHVEG  Female              0     Yes         No       1           No   \n",
            "1  5575-GNVDE    Male              0      No         No      34          Yes   \n",
            "2  3668-QPYBK    Male              0      No         No       2          Yes   \n",
            "3  7795-CFOCW    Male              0      No         No      45           No   \n",
            "4  9237-HQITU  Female              0      No         No       2          Yes   \n",
            "\n",
            "      MultipleLines InternetService OnlineSecurity  ... TechSupport  \\\n",
            "0  No phone service             DSL             No  ...          No   \n",
            "1                No             DSL            Yes  ...          No   \n",
            "2                No             DSL            Yes  ...          No   \n",
            "3  No phone service             DSL            Yes  ...         Yes   \n",
            "4                No     Fiber optic             No  ...          No   \n",
            "\n",
            "  StreamingTV StreamingMovies        Contract PaperlessBilling  \\\n",
            "0          No              No  Month-to-month              Yes   \n",
            "1          No              No        One year               No   \n",
            "2          No              No  Month-to-month              Yes   \n",
            "3          No              No        One year               No   \n",
            "4          No              No  Month-to-month              Yes   \n",
            "\n",
            "               PaymentMethod MonthlyCharges TotalCharges  Churn TotalRevenue  \n",
            "0           Electronic check          29.85        29.85     No        29.85  \n",
            "1               Mailed check          56.95       1889.5     No      1936.30  \n",
            "2               Mailed check          53.85       108.15    Yes       107.70  \n",
            "3  Bank transfer (automatic)          42.30      1840.75     No      1903.50  \n",
            "4           Electronic check          70.70       151.65    Yes       141.40  \n",
            "\n",
            "[5 rows x 22 columns]\n"
          ]
        }
      ]
    },
    {
      "cell_type": "code",
      "source": [],
      "metadata": {
        "id": "zsfriXLU-w9f"
      },
      "execution_count": null,
      "outputs": []
    },
    {
      "cell_type": "markdown",
      "source": [
        "Create Churn Probability Segments"
      ],
      "metadata": {
        "id": "7fbY1_6--z7u"
      }
    },
    {
      "cell_type": "code",
      "source": [
        "query = \"\"\"\n",
        "SELECT customerID, tenure, MonthlyCharges, Churn,\n",
        "       CASE\n",
        "           WHEN tenure < 12 AND MonthlyCharges > 70 THEN 'High Risk'\n",
        "           ELSE 'Low Risk'\n",
        "       END AS RiskCategory\n",
        "FROM telco_churn;\n",
        "\"\"\"\n",
        "risk_segments = pd.read_sql(query, conn)\n",
        "print(risk_segments.head())\n"
      ],
      "metadata": {
        "colab": {
          "base_uri": "https://localhost:8080/"
        },
        "id": "tT0HQOjf-0HX",
        "outputId": "e7db2173-50c6-4ede-eebd-c55de556993c"
      },
      "execution_count": 12,
      "outputs": [
        {
          "output_type": "stream",
          "name": "stdout",
          "text": [
            "   customerID  tenure  MonthlyCharges Churn RiskCategory\n",
            "0  7590-VHVEG       1           29.85    No     Low Risk\n",
            "1  5575-GNVDE      34           56.95    No     Low Risk\n",
            "2  3668-QPYBK       2           53.85   Yes     Low Risk\n",
            "3  7795-CFOCW      45           42.30    No     Low Risk\n",
            "4  9237-HQITU       2           70.70   Yes    High Risk\n"
          ]
        }
      ]
    },
    {
      "cell_type": "code",
      "source": [],
      "metadata": {
        "id": "dEAlq4AT-1mT"
      },
      "execution_count": null,
      "outputs": []
    },
    {
      "cell_type": "markdown",
      "source": [
        "#Automate SQL Reports"
      ],
      "metadata": {
        "id": "xpXrcgz6-7I6"
      }
    },
    {
      "cell_type": "code",
      "source": [
        "query = \"\"\"\n",
        "SELECT customerID, tenure, MonthlyCharges, TotalCharges, Churn\n",
        "FROM telco_churn\n",
        "WHERE Churn = 'Yes' OR (tenure < 12 AND MonthlyCharges > 70);\n",
        "\"\"\"\n",
        "high_risk_report = pd.read_sql(query, conn)\n",
        "print(high_risk_report.head())\n"
      ],
      "metadata": {
        "colab": {
          "base_uri": "https://localhost:8080/"
        },
        "id": "EjggsLyT-64p",
        "outputId": "40170b98-44c0-4e67-80a8-130976fd1954"
      },
      "execution_count": 13,
      "outputs": [
        {
          "output_type": "stream",
          "name": "stdout",
          "text": [
            "   customerID  tenure  MonthlyCharges TotalCharges Churn\n",
            "0  3668-QPYBK       2           53.85       108.15   Yes\n",
            "1  9237-HQITU       2           70.70       151.65   Yes\n",
            "2  9305-CDSKC       8           99.65        820.5   Yes\n",
            "3  7892-POOKP      28          104.80      3046.05   Yes\n",
            "4  0280-XJGEX      49          103.70       5036.3   Yes\n"
          ]
        }
      ]
    },
    {
      "cell_type": "code",
      "source": [],
      "metadata": {
        "id": "7xQsbuV1-9XX"
      },
      "execution_count": null,
      "outputs": []
    },
    {
      "cell_type": "markdown",
      "source": [
        "#Saving"
      ],
      "metadata": {
        "id": "coprk-GM_EmR"
      }
    },
    {
      "cell_type": "code",
      "source": [
        "# Save the updated DataFrame with features to a new CSV\n",
        "output_path = 'churn_with_features.csv'\n",
        "df_with_features.to_csv(output_path, index=False)\n",
        "print(f\"Preprocessed dataset saved to {output_path}\")\n"
      ],
      "metadata": {
        "colab": {
          "base_uri": "https://localhost:8080/"
        },
        "id": "z5PJGcU6_FLi",
        "outputId": "e2b05f60-4fca-4fdc-abc1-9c07b2e5a996"
      },
      "execution_count": 15,
      "outputs": [
        {
          "output_type": "stream",
          "name": "stdout",
          "text": [
            "Preprocessed dataset saved to churn_with_features.csv\n"
          ]
        }
      ]
    },
    {
      "cell_type": "code",
      "source": [],
      "metadata": {
        "id": "mmcQIRSp_FeQ"
      },
      "execution_count": null,
      "outputs": []
    },
    {
      "cell_type": "markdown",
      "source": [
        "#Entry of Pyspark OR PySpark in the house"
      ],
      "metadata": {
        "id": "DpDsVteQ_6zb"
      }
    },
    {
      "cell_type": "code",
      "source": [
        "from pyspark.sql import SparkSession\n",
        "from pyspark.sql.functions import col\n",
        "\n",
        "# Initialize Spark session\n",
        "spark = SparkSession.builder \\\n",
        "    .appName(\"Customer Churn Prediction\") \\\n",
        "    .getOrCreate()"
      ],
      "metadata": {
        "id": "K3YSKp-O_8Xq"
      },
      "execution_count": 17,
      "outputs": []
    },
    {
      "cell_type": "code",
      "source": [
        "file_path = '/content/churn_with_features.csv'\n",
        "data = spark.read.csv(file_path, header=True, inferSchema=True)\n",
        "\n",
        "# Display schema\n",
        "data.printSchema()\n",
        "\n",
        "# Show a sample of the dataset\n",
        "data.show(5)\n"
      ],
      "metadata": {
        "colab": {
          "base_uri": "https://localhost:8080/"
        },
        "id": "9zkVgQIy_8x8",
        "outputId": "d228990e-66b7-415a-f892-c76c50d9ddea"
      },
      "execution_count": 18,
      "outputs": [
        {
          "output_type": "stream",
          "name": "stdout",
          "text": [
            "root\n",
            " |-- customerID: string (nullable = true)\n",
            " |-- gender: string (nullable = true)\n",
            " |-- SeniorCitizen: integer (nullable = true)\n",
            " |-- Partner: string (nullable = true)\n",
            " |-- Dependents: string (nullable = true)\n",
            " |-- tenure: integer (nullable = true)\n",
            " |-- PhoneService: string (nullable = true)\n",
            " |-- MultipleLines: string (nullable = true)\n",
            " |-- InternetService: string (nullable = true)\n",
            " |-- OnlineSecurity: string (nullable = true)\n",
            " |-- OnlineBackup: string (nullable = true)\n",
            " |-- DeviceProtection: string (nullable = true)\n",
            " |-- TechSupport: string (nullable = true)\n",
            " |-- StreamingTV: string (nullable = true)\n",
            " |-- StreamingMovies: string (nullable = true)\n",
            " |-- Contract: string (nullable = true)\n",
            " |-- PaperlessBilling: string (nullable = true)\n",
            " |-- PaymentMethod: string (nullable = true)\n",
            " |-- MonthlyCharges: double (nullable = true)\n",
            " |-- TotalCharges: string (nullable = true)\n",
            " |-- Churn: string (nullable = true)\n",
            " |-- TotalRevenue: double (nullable = true)\n",
            "\n",
            "+----------+------+-------------+-------+----------+------+------------+----------------+---------------+--------------+------------+----------------+-----------+-----------+---------------+--------------+----------------+--------------------+--------------+------------+-----+------------------+\n",
            "|customerID|gender|SeniorCitizen|Partner|Dependents|tenure|PhoneService|   MultipleLines|InternetService|OnlineSecurity|OnlineBackup|DeviceProtection|TechSupport|StreamingTV|StreamingMovies|      Contract|PaperlessBilling|       PaymentMethod|MonthlyCharges|TotalCharges|Churn|      TotalRevenue|\n",
            "+----------+------+-------------+-------+----------+------+------------+----------------+---------------+--------------+------------+----------------+-----------+-----------+---------------+--------------+----------------+--------------------+--------------+------------+-----+------------------+\n",
            "|7590-VHVEG|Female|            0|    Yes|        No|     1|          No|No phone service|            DSL|            No|         Yes|              No|         No|         No|             No|Month-to-month|             Yes|    Electronic check|         29.85|       29.85|   No|             29.85|\n",
            "|5575-GNVDE|  Male|            0|     No|        No|    34|         Yes|              No|            DSL|           Yes|          No|             Yes|         No|         No|             No|      One year|              No|        Mailed check|         56.95|      1889.5|   No|1936.3000000000002|\n",
            "|3668-QPYBK|  Male|            0|     No|        No|     2|         Yes|              No|            DSL|           Yes|         Yes|              No|         No|         No|             No|Month-to-month|             Yes|        Mailed check|         53.85|      108.15|  Yes|             107.7|\n",
            "|7795-CFOCW|  Male|            0|     No|        No|    45|          No|No phone service|            DSL|           Yes|          No|             Yes|        Yes|         No|             No|      One year|              No|Bank transfer (au...|          42.3|     1840.75|   No|1903.4999999999998|\n",
            "|9237-HQITU|Female|            0|     No|        No|     2|         Yes|              No|    Fiber optic|            No|          No|              No|         No|         No|             No|Month-to-month|             Yes|    Electronic check|          70.7|      151.65|  Yes|             141.4|\n",
            "+----------+------+-------------+-------+----------+------+------------+----------------+---------------+--------------+------------+----------------+-----------+-----------+---------------+--------------+----------------+--------------------+--------------+------------+-----+------------------+\n",
            "only showing top 5 rows\n",
            "\n"
          ]
        }
      ]
    },
    {
      "cell_type": "code",
      "source": [],
      "metadata": {
        "id": "yZsrodKhAH_7"
      },
      "execution_count": null,
      "outputs": []
    },
    {
      "cell_type": "markdown",
      "source": [
        "#Clean and Transform Data"
      ],
      "metadata": {
        "id": "wRMzWmRtAMRp"
      }
    },
    {
      "cell_type": "code",
      "source": [
        "# Fill null values\n",
        "data = data.na.fill({'TotalRevenue': 0, 'tenure': 0, 'MonthlyCharges': 0})\n",
        "\n",
        "# Cast numerical columns to appropriate types\n",
        "data = data.withColumn(\"TotalRevenue\", col(\"TotalRevenue\").cast(\"float\")) \\\n",
        "           .withColumn(\"MonthlyCharges\", col(\"MonthlyCharges\").cast(\"float\")) \\\n",
        "           .withColumn(\"tenure\", col(\"tenure\").cast(\"int\"))"
      ],
      "metadata": {
        "id": "-zoYo4PkAM66"
      },
      "execution_count": 19,
      "outputs": []
    },
    {
      "cell_type": "code",
      "source": [],
      "metadata": {
        "id": "RWSrT3HtAOHj"
      },
      "execution_count": null,
      "outputs": []
    },
    {
      "cell_type": "markdown",
      "source": [
        "#Feature Selection"
      ],
      "metadata": {
        "id": "4UVl51WkAQBd"
      }
    },
    {
      "cell_type": "code",
      "source": [
        "from pyspark.ml.feature import StringIndexer\n",
        "\n",
        "# Index categorical columns\n",
        "indexer = StringIndexer(inputCols=[\"gender\", \"Partner\", \"Dependents\", \"PhoneService\", \"Churn\"],\n",
        "                        outputCols=[\"gender_index\", \"Partner_index\", \"Dependents_index\", \"PhoneService_index\", \"Churn_index\"])\n",
        "indexed_data = indexer.fit(data).transform(data)\n",
        "\n",
        "# Drop original columns if needed\n",
        "indexed_data = indexed_data.drop(\"gender\", \"Partner\", \"Dependents\", \"PhoneService\", \"Churn\")\n",
        "indexed_data.show(5)"
      ],
      "metadata": {
        "colab": {
          "base_uri": "https://localhost:8080/"
        },
        "id": "H7nUYPfxAQV7",
        "outputId": "845efef3-0b09-45cb-c7b1-a33d47537d0c"
      },
      "execution_count": 20,
      "outputs": [
        {
          "output_type": "stream",
          "name": "stdout",
          "text": [
            "+----------+-------------+------+----------------+---------------+--------------+------------+----------------+-----------+-----------+---------------+--------------+----------------+--------------------+--------------+------------+------------+------------+-------------+----------------+------------------+-----------+\n",
            "|customerID|SeniorCitizen|tenure|   MultipleLines|InternetService|OnlineSecurity|OnlineBackup|DeviceProtection|TechSupport|StreamingTV|StreamingMovies|      Contract|PaperlessBilling|       PaymentMethod|MonthlyCharges|TotalCharges|TotalRevenue|gender_index|Partner_index|Dependents_index|PhoneService_index|Churn_index|\n",
            "+----------+-------------+------+----------------+---------------+--------------+------------+----------------+-----------+-----------+---------------+--------------+----------------+--------------------+--------------+------------+------------+------------+-------------+----------------+------------------+-----------+\n",
            "|7590-VHVEG|            0|     1|No phone service|            DSL|            No|         Yes|              No|         No|         No|             No|Month-to-month|             Yes|    Electronic check|         29.85|       29.85|       29.85|         1.0|          1.0|             0.0|               1.0|        0.0|\n",
            "|5575-GNVDE|            0|    34|              No|            DSL|           Yes|          No|             Yes|         No|         No|             No|      One year|              No|        Mailed check|         56.95|      1889.5|      1936.3|         0.0|          0.0|             0.0|               0.0|        0.0|\n",
            "|3668-QPYBK|            0|     2|              No|            DSL|           Yes|         Yes|              No|         No|         No|             No|Month-to-month|             Yes|        Mailed check|         53.85|      108.15|       107.7|         0.0|          0.0|             0.0|               0.0|        1.0|\n",
            "|7795-CFOCW|            0|    45|No phone service|            DSL|           Yes|          No|             Yes|        Yes|         No|             No|      One year|              No|Bank transfer (au...|          42.3|     1840.75|      1903.5|         0.0|          0.0|             0.0|               1.0|        0.0|\n",
            "|9237-HQITU|            0|     2|              No|    Fiber optic|            No|          No|              No|         No|         No|             No|Month-to-month|             Yes|    Electronic check|          70.7|      151.65|       141.4|         1.0|          0.0|             0.0|               0.0|        1.0|\n",
            "+----------+-------------+------+----------------+---------------+--------------+------------+----------------+-----------+-----------+---------------+--------------+----------------+--------------------+--------------+------------+------------+------------+-------------+----------------+------------------+-----------+\n",
            "only showing top 5 rows\n",
            "\n"
          ]
        }
      ]
    },
    {
      "cell_type": "code",
      "source": [],
      "metadata": {
        "id": "UW4j9Mb7Athn"
      },
      "execution_count": null,
      "outputs": []
    },
    {
      "cell_type": "markdown",
      "source": [
        "Assemble Features into a Vector"
      ],
      "metadata": {
        "id": "WXElcgcPAvdi"
      }
    },
    {
      "cell_type": "code",
      "source": [
        "from pyspark.ml.feature import VectorAssembler\n",
        "\n",
        "# Define feature columns\n",
        "feature_cols = [\"tenure\", \"MonthlyCharges\", \"TotalRevenue\", \"gender_index\", \"Partner_index\", \"Dependents_index\", \"PhoneService_index\"]\n",
        "\n",
        "# Assemble features\n",
        "assembler = VectorAssembler(inputCols=feature_cols, outputCol=\"features\")\n",
        "final_data = assembler.transform(indexed_data)\n",
        "\n",
        "# Show final dataset with features\n",
        "final_data.select(\"features\", \"Churn_index\").show(5)\n"
      ],
      "metadata": {
        "colab": {
          "base_uri": "https://localhost:8080/"
        },
        "id": "3fA8Xt9WAvvO",
        "outputId": "cf084bea-f34f-406c-dfb2-7c6b5f8e8da2"
      },
      "execution_count": 21,
      "outputs": [
        {
          "output_type": "stream",
          "name": "stdout",
          "text": [
            "+--------------------+-----------+\n",
            "|            features|Churn_index|\n",
            "+--------------------+-----------+\n",
            "|[1.0,29.850000381...|        0.0|\n",
            "|(7,[0,1,2],[34.0,...|        0.0|\n",
            "|(7,[0,1,2],[2.0,5...|        1.0|\n",
            "|[45.0,42.29999923...|        0.0|\n",
            "|[2.0,70.699996948...|        1.0|\n",
            "+--------------------+-----------+\n",
            "only showing top 5 rows\n",
            "\n"
          ]
        }
      ]
    },
    {
      "cell_type": "code",
      "source": [],
      "metadata": {
        "id": "ySeZDGNkAxK6"
      },
      "execution_count": null,
      "outputs": []
    },
    {
      "cell_type": "markdown",
      "source": [
        "Train a Predictive Model"
      ],
      "metadata": {
        "id": "-HNqxPtdAzkm"
      }
    },
    {
      "cell_type": "code",
      "source": [
        "train_data, test_data = final_data.randomSplit([0.8, 0.2], seed=42)"
      ],
      "metadata": {
        "id": "I7ZFIV_EAztY"
      },
      "execution_count": 22,
      "outputs": []
    },
    {
      "cell_type": "markdown",
      "source": [
        "Logistic Regression"
      ],
      "metadata": {
        "id": "7dT21EL0A4VL"
      }
    },
    {
      "cell_type": "code",
      "source": [
        "from pyspark.ml.classification import LogisticRegression\n",
        "\n",
        "# Initialize the model\n",
        "lr = LogisticRegression(featuresCol=\"features\", labelCol=\"Churn_index\")\n",
        "\n",
        "# Train the model\n",
        "lr_model = lr.fit(train_data)\n",
        "\n",
        "# Evaluate the model\n",
        "predictions = lr_model.transform(test_data)\n",
        "predictions.select(\"features\", \"Churn_index\", \"prediction\").show(5)\n"
      ],
      "metadata": {
        "colab": {
          "base_uri": "https://localhost:8080/"
        },
        "id": "VZHnSX2nA1e9",
        "outputId": "ce9bf4b4-5056-4024-a814-d6fc135912b9"
      },
      "execution_count": 23,
      "outputs": [
        {
          "output_type": "stream",
          "name": "stdout",
          "text": [
            "+--------------------+-----------+----------+\n",
            "|            features|Churn_index|prediction|\n",
            "+--------------------+-----------+----------+\n",
            "|(7,[0,1,2],[4.0,7...|        1.0|       1.0|\n",
            "|[71.0,109.6999969...|        0.0|       0.0|\n",
            "|[7.0,48.200000762...|        0.0|       0.0|\n",
            "|[72.0,101.3000030...|        0.0|       0.0|\n",
            "|[1.0,25.100000381...|        1.0|       0.0|\n",
            "+--------------------+-----------+----------+\n",
            "only showing top 5 rows\n",
            "\n"
          ]
        }
      ]
    },
    {
      "cell_type": "code",
      "source": [],
      "metadata": {
        "id": "IsfNmrQqA5HW"
      },
      "execution_count": null,
      "outputs": []
    },
    {
      "cell_type": "markdown",
      "source": [
        "Evaluation"
      ],
      "metadata": {
        "id": "aITUaNQvA9IB"
      }
    },
    {
      "cell_type": "code",
      "source": [
        "from pyspark.ml.evaluation import BinaryClassificationEvaluator\n",
        "\n",
        "# Evaluate using AUC (Area Under ROC)\n",
        "evaluator = BinaryClassificationEvaluator(labelCol=\"Churn_index\")\n",
        "auc = evaluator.evaluate(predictions)\n",
        "print(f\"Model AUC: {auc}\")\n"
      ],
      "metadata": {
        "colab": {
          "base_uri": "https://localhost:8080/"
        },
        "id": "IDXw4SULA-Rs",
        "outputId": "f45db7b6-7137-46f3-c432-2a5501b2ac10"
      },
      "execution_count": 24,
      "outputs": [
        {
          "output_type": "stream",
          "name": "stdout",
          "text": [
            "Model AUC: 0.8124125349860056\n"
          ]
        }
      ]
    },
    {
      "cell_type": "code",
      "source": [],
      "metadata": {
        "id": "zMUqyEqfA-wL"
      },
      "execution_count": null,
      "outputs": []
    },
    {
      "cell_type": "markdown",
      "source": [
        "Save Model and Predictions"
      ],
      "metadata": {
        "id": "_3hzf4cvBCIp"
      }
    },
    {
      "cell_type": "code",
      "source": [
        "# Save model\n",
        "lr_model.save(\"churn_model\")"
      ],
      "metadata": {
        "id": "k5fccUwGBxA5"
      },
      "execution_count": null,
      "outputs": []
    },
    {
      "cell_type": "code",
      "source": [
        "from pyspark.sql.functions import udf\n",
        "from pyspark.sql.types import StringType\n",
        "\n",
        "# Define UDF to convert features vector to a string\n",
        "vector_to_string_udf = udf(lambda vector: str(vector), StringType())\n",
        "\n",
        "# Add a new column with features as strings\n",
        "predictions_with_string_features = predictions.withColumn(\"features_string\", vector_to_string_udf(predictions[\"features\"]))\n",
        "\n",
        "# Select columns to save\n",
        "columns_to_save = [\"features_string\", \"Churn_index\", \"prediction\"]\n",
        "\n",
        "# Save the predictions as a CSV\n",
        "predictions_with_string_features.select(*columns_to_save).write.csv(\"churn_predictions\", header=True)\n"
      ],
      "metadata": {
        "id": "mFZ37EUCBrEa"
      },
      "execution_count": 29,
      "outputs": []
    },
    {
      "cell_type": "code",
      "source": [
        "!ls churn_predictions\n"
      ],
      "metadata": {
        "colab": {
          "base_uri": "https://localhost:8080/"
        },
        "id": "8tn0NukWBDo_",
        "outputId": "ff2bee61-baa2-4daa-c8c5-a57cefc9c38b"
      },
      "execution_count": 30,
      "outputs": [
        {
          "output_type": "stream",
          "name": "stdout",
          "text": [
            "part-00000-81f0cbeb-7172-42a1-bb62-917b5e19d542-c000.csv  _SUCCESS\n"
          ]
        }
      ]
    },
    {
      "cell_type": "code",
      "source": [
        "from google.colab import files\n",
        "!zip -r churn_predictions.zip churn_predictions/\n",
        "files.download(\"churn_predictions.zip\")"
      ],
      "metadata": {
        "colab": {
          "base_uri": "https://localhost:8080/",
          "height": 104
        },
        "id": "HOZDcEjlBejM",
        "outputId": "90d2c309-b774-45da-bd54-95a4e5e0498f"
      },
      "execution_count": 31,
      "outputs": [
        {
          "output_type": "stream",
          "name": "stdout",
          "text": [
            "  adding: churn_predictions/ (stored 0%)\n",
            "  adding: churn_predictions/part-00000-81f0cbeb-7172-42a1-bb62-917b5e19d542-c000.csv (deflated 82%)\n",
            "  adding: churn_predictions/.part-00000-81f0cbeb-7172-42a1-bb62-917b5e19d542-c000.csv.crc (stored 0%)\n",
            "  adding: churn_predictions/._SUCCESS.crc (stored 0%)\n",
            "  adding: churn_predictions/_SUCCESS (stored 0%)\n"
          ]
        },
        {
          "output_type": "display_data",
          "data": {
            "text/plain": [
              "<IPython.core.display.Javascript object>"
            ],
            "application/javascript": [
              "\n",
              "    async function download(id, filename, size) {\n",
              "      if (!google.colab.kernel.accessAllowed) {\n",
              "        return;\n",
              "      }\n",
              "      const div = document.createElement('div');\n",
              "      const label = document.createElement('label');\n",
              "      label.textContent = `Downloading \"${filename}\": `;\n",
              "      div.appendChild(label);\n",
              "      const progress = document.createElement('progress');\n",
              "      progress.max = size;\n",
              "      div.appendChild(progress);\n",
              "      document.body.appendChild(div);\n",
              "\n",
              "      const buffers = [];\n",
              "      let downloaded = 0;\n",
              "\n",
              "      const channel = await google.colab.kernel.comms.open(id);\n",
              "      // Send a message to notify the kernel that we're ready.\n",
              "      channel.send({})\n",
              "\n",
              "      for await (const message of channel.messages) {\n",
              "        // Send a message to notify the kernel that we're ready.\n",
              "        channel.send({})\n",
              "        if (message.buffers) {\n",
              "          for (const buffer of message.buffers) {\n",
              "            buffers.push(buffer);\n",
              "            downloaded += buffer.byteLength;\n",
              "            progress.value = downloaded;\n",
              "          }\n",
              "        }\n",
              "      }\n",
              "      const blob = new Blob(buffers, {type: 'application/binary'});\n",
              "      const a = document.createElement('a');\n",
              "      a.href = window.URL.createObjectURL(blob);\n",
              "      a.download = filename;\n",
              "      div.appendChild(a);\n",
              "      a.click();\n",
              "      div.remove();\n",
              "    }\n",
              "  "
            ]
          },
          "metadata": {}
        },
        {
          "output_type": "display_data",
          "data": {
            "text/plain": [
              "<IPython.core.display.Javascript object>"
            ],
            "application/javascript": [
              "download(\"download_2addf695-6c10-45b5-8b63-17bbea7b34d6\", \"churn_predictions.zip\", 16916)"
            ]
          },
          "metadata": {}
        }
      ]
    },
    {
      "cell_type": "code",
      "source": [],
      "metadata": {
        "id": "dYW1mL4aPhNl"
      },
      "execution_count": null,
      "outputs": []
    }
  ]
}